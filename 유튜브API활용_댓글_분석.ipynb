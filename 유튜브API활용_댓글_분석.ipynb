{
  "nbformat": 4,
  "nbformat_minor": 0,
  "metadata": {
    "colab": {
      "provenance": [],
      "authorship_tag": "ABX9TyMiWeNqKHLlzRCyw4i+rzbC",
      "include_colab_link": true
    },
    "kernelspec": {
      "name": "python3",
      "display_name": "Python 3"
    },
    "language_info": {
      "name": "python"
    }
  },
  "cells": [
    {
      "cell_type": "markdown",
      "metadata": {
        "id": "view-in-github",
        "colab_type": "text"
      },
      "source": [
        "<a href=\"https://colab.research.google.com/github/bigdatakang0000/START/blob/main/%EC%9C%A0%ED%8A%9C%EB%B8%8CAPI%ED%99%9C%EC%9A%A9_%EB%8C%93%EA%B8%80_%EB%B6%84%EC%84%9D.ipynb\" target=\"_parent\"><img src=\"https://colab.research.google.com/assets/colab-badge.svg\" alt=\"Open In Colab\"/></a>"
      ]
    },
    {
      "cell_type": "code",
      "execution_count": null,
      "metadata": {
        "id": "xXwwX_TiAR4C"
      },
      "outputs": [],
      "source": [
        "﻿\n",
        "import pandas\n",
        "\n",
        "from googleapiclient.discovery import build\n",
        "\n",
        "\n",
        "\n",
        "api_key = '발급 받은 API 키'\n",
        "\n",
        "video_id = '추출하고자 하는 동영상의 id'\n",
        "\n",
        "\n",
        "comments = list()\n",
        "\n",
        "api_obj = build('youtube', 'v3', developerKey=api_key)\n",
        "\n",
        "response = api_obj.commentThreads().list(part='snippet,replies', videoId=video_id, maxResults=100).execute()\n",
        "\n",
        "\n",
        "while response:\n",
        "\n",
        "for item in response['items']:\n",
        "\n",
        "comment = item['snippet']['topLevelComment']['snippet']\n",
        "\n",
        "comments.append([comment['textDisplay'], comment['authorDisplayName'], comment['publishedAt'], comment['likeCount']])\n",
        "\n",
        "\n",
        "if item['snippet']['totalReplyCount'] > 0:\n",
        "\n",
        "for reply_item in item['replies']['comments']:\n",
        "\n",
        "reply = reply_item['snippet']\n",
        "\n",
        "comments.append([reply['textDisplay'], reply['authorDisplayName'], reply['publishedAt'], reply['likeCount']])\n",
        "\n",
        "\n",
        "if 'nextPageToken' in response:\n",
        "\n",
        "response = api_obj.commentThreads().list(part='snippet,replies', videoId=video_id, pageToken=response['nextPageToken'], maxResults=100).execute()\n",
        "\n",
        "else:\n",
        "\n",
        "break\n",
        "\n",
        "\n",
        "df = pandas.DataFrame(comments)\n",
        "\n",
        "df.to_excel('results.xlsx', header=['comment', 'author', 'date', 'num_likes'], index=None)\n",
        "\n",
        "﻿"
      ]
    }
  ]
}