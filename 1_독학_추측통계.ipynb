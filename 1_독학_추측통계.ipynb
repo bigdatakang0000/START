{
  "nbformat": 4,
  "nbformat_minor": 0,
  "metadata": {
    "colab": {
      "provenance": [],
      "mount_file_id": "1cMWh45FgSnc8413fgXHjWzlIjBmiYgW0",
      "authorship_tag": "ABX9TyMeIyA/nq8ggWxU3OScHYZO",
      "include_colab_link": true
    },
    "kernelspec": {
      "name": "python3",
      "display_name": "Python 3"
    },
    "language_info": {
      "name": "python"
    }
  },
  "cells": [
    {
      "cell_type": "markdown",
      "metadata": {
        "id": "view-in-github",
        "colab_type": "text"
      },
      "source": [
        "<a href=\"https://colab.research.google.com/github/bigdatakang0000/START/blob/main/1_%EB%8F%85%ED%95%99_%EC%B6%94%EC%B8%A1%ED%86%B5%EA%B3%84.ipynb\" target=\"_parent\"><img src=\"https://colab.research.google.com/assets/colab-badge.svg\" alt=\"Open In Colab\"/></a>"
      ]
    },
    {
      "cell_type": "markdown",
      "source": [
        "추측통계(표본추출)\n",
        ":확률을 사용하여 모집단의 통계적 성질을 추측하는 기법"
      ],
      "metadata": {
        "id": "IGfZzrzhbMLh"
      }
    },
    {
      "cell_type": "code",
      "source": [
        "import numpy as np\n",
        "import pandas as pd\n",
        "import matplotlib.pyplot as plt\n",
        "\n",
        "%precision 3\n",
        "%matplotlib inline"
      ],
      "metadata": {
        "id": "1DKpLTOnbtNx"
      },
      "execution_count": 4,
      "outputs": []
    },
    {
      "cell_type": "code",
      "source": [
        "df = pd.read_csv('/content/drive/MyDrive/파이썬 통계분석 책_파일/source (1)/python_stat_sample-master/data/ch4_scores400.csv')\n",
        "scores = np.array(df['score'])\n",
        "scores[:10]"
      ],
      "metadata": {
        "colab": {
          "base_uri": "https://localhost:8080/"
        },
        "id": "RkFs0bapbuu5",
        "outputId": "415531f4-ec33-4bc3-c16b-1ef0e532d1a0"
      },
      "execution_count": 5,
      "outputs": [
        {
          "output_type": "execute_result",
          "data": {
            "text/plain": [
              "array([76, 55, 80, 80, 74, 61, 81, 76, 23, 80])"
            ]
          },
          "metadata": {},
          "execution_count": 5
        }
      ]
    },
    {
      "cell_type": "code",
      "execution_count": 11,
      "metadata": {
        "colab": {
          "base_uri": "https://localhost:8080/"
        },
        "id": "ECWMwPIhbGY6",
        "outputId": "739f90a6-e596-4605-d882-b5b7447b678c"
      },
      "outputs": [
        {
          "output_type": "execute_result",
          "data": {
            "text/plain": [
              "array([1, 2, 2])"
            ]
          },
          "metadata": {},
          "execution_count": 11
        }
      ],
      "source": [
        "np.random.choice([1,2,3], 3)   #무작위 추출이란 임의의 결과가 수반되는 계산임.\n",
        "#이 함수는 기본설정으로 복원추출을 수행하고 있어 이 셀은 실행할때마다 결과가 다름"
      ]
    },
    {
      "cell_type": "code",
      "source": [
        "np.random.choice([1,2,3],3, replace=False)   #인수 replace를 False로 하면 비복원 추출을 실행할 수 있다.\n",
        "#무작위추출은 계산 결과가 매번 다르기 때문에 이 문제를 해결하기 위해 난수 시드(seed)를 도입하여 매번 동일한 난수를 얻을 수 있다"
      ],
      "metadata": {
        "colab": {
          "base_uri": "https://localhost:8080/"
        },
        "id": "nMv7QIbybu6v",
        "outputId": "b3b001f5-f6b7-4887-844a-2e98f3a7d706"
      },
      "execution_count": 12,
      "outputs": [
        {
          "output_type": "execute_result",
          "data": {
            "text/plain": [
              "array([3, 2, 1])"
            ]
          },
          "metadata": {},
          "execution_count": 12
        }
      ]
    },
    {
      "cell_type": "code",
      "source": [
        "np.random.seed(0)\n",
        "np.random.choice([1,2,3],3)"
      ],
      "metadata": {
        "colab": {
          "base_uri": "https://localhost:8080/"
        },
        "id": "W0rDwflPbuy8",
        "outputId": "4345f744-342c-47f3-874f-1562f96019e3"
      },
      "execution_count": 13,
      "outputs": [
        {
          "output_type": "execute_result",
          "data": {
            "text/plain": [
              "array([1, 2, 1])"
            ]
          },
          "metadata": {},
          "execution_count": 13
        }
      ]
    },
    {
      "cell_type": "code",
      "source": [
        "np.random.seed(0)\n",
        "sample=np.random.choice(scores,20)    # scores로부터 표본크기 20으로 복원추출 재현하고, 무작위추출 실행하여 표본평균 계산\n",
        "sample.mean()"
      ],
      "metadata": {
        "colab": {
          "base_uri": "https://localhost:8080/"
        },
        "id": "gweh8LPMexzr",
        "outputId": "43318f8f-3833-4165-8ed4-0d96a37ae196"
      },
      "execution_count": 15,
      "outputs": [
        {
          "output_type": "execute_result",
          "data": {
            "text/plain": [
              "70.4"
            ]
          },
          "metadata": {},
          "execution_count": 15
        }
      ]
    },
    {
      "cell_type": "code",
      "source": [
        "scores.mean()    #모평균이 69.53점이다. a학생이 70점일 경우 평균보다 높다."
      ],
      "metadata": {
        "colab": {
          "base_uri": "https://localhost:8080/"
        },
        "id": "XI0khWesex8v",
        "outputId": "4994bdf5-ce10-46c7-8fdb-1b8a9206c92d"
      },
      "execution_count": 16,
      "outputs": [
        {
          "output_type": "execute_result",
          "data": {
            "text/plain": [
              "69.53"
            ]
          },
          "metadata": {},
          "execution_count": 16
        }
      ]
    },
    {
      "cell_type": "code",
      "source": [
        "for i in range(5):\n",
        "    sample = np.random.choice(scores, 20)\n",
        "    print(f'{i+1}번째 무작위추출로 얻은 표본평균', sample.mean())   #결과: 표본평균은 대체로 70점 전후이지만, 나름대로 산포도도 나타내는 것 같다."
      ],
      "metadata": {
        "colab": {
          "base_uri": "https://localhost:8080/"
        },
        "id": "XPnV1_jdeyEs",
        "outputId": "8a9d2ac8-c5db-44aa-e2f4-e61462f6a5dc"
      },
      "execution_count": 19,
      "outputs": [
        {
          "output_type": "stream",
          "name": "stdout",
          "text": [
            "1번째 무작위추출로 얻은 표본평균 72.45\n",
            "2번째 무작위추출로 얻은 표본평균 63.7\n",
            "3번째 무작위추출로 얻은 표본평균 66.05\n",
            "4번째 무작위추출로 얻은 표본평균 71.7\n",
            "5번째 무작위추출로 얻은 표본평균 74.15\n"
          ]
        }
      ]
    },
    {
      "cell_type": "markdown",
      "source": [
        "**확률모형**"
      ],
      "metadata": {
        "id": "ckEXTJ9ckPMo"
      }
    },
    {
      "cell_type": "code",
      "source": [
        "dice=[1,2,3,4,5,6]\n",
        "prob = [1/21, 2/21, 3/21, 4/21, 5/21, 6/21]"
      ],
      "metadata": {
        "id": "KgsCljlMkMxu"
      },
      "execution_count": 20,
      "outputs": []
    },
    {
      "cell_type": "code",
      "source": [
        "np.random.choice(dice, p=prob)"
      ],
      "metadata": {
        "colab": {
          "base_uri": "https://localhost:8080/"
        },
        "id": "dR8U8Yi1lWNg",
        "outputId": "e8bff694-b393-4376-96da-35ea1a52e880"
      },
      "execution_count": 21,
      "outputs": [
        {
          "output_type": "execute_result",
          "data": {
            "text/plain": [
              "1"
            ]
          },
          "metadata": {},
          "execution_count": 21
        }
      ]
    },
    {
      "cell_type": "code",
      "source": [
        "num_trial=100    #100번 시행\n",
        "sample = np.random.choice(dice,num_trial, p=prob)\n",
        "sample"
      ],
      "metadata": {
        "colab": {
          "base_uri": "https://localhost:8080/"
        },
        "id": "mR1AQDt-lp9F",
        "outputId": "196b0996-627f-4a36-dd1d-d14b5e1e0d7e"
      },
      "execution_count": 22,
      "outputs": [
        {
          "output_type": "execute_result",
          "data": {
            "text/plain": [
              "array([4, 6, 4, 5, 5, 6, 6, 3, 5, 6, 5, 6, 6, 2, 3, 1, 6, 5, 6, 3, 4, 5,\n",
              "       3, 4, 3, 5, 5, 4, 4, 6, 4, 6, 5, 6, 5, 4, 6, 2, 6, 4, 5, 3, 4, 6,\n",
              "       5, 5, 5, 3, 4, 5, 4, 4, 6, 4, 4, 6, 6, 2, 2, 4, 5, 1, 6, 4, 3, 2,\n",
              "       2, 6, 3, 5, 4, 2, 4, 4, 6, 6, 1, 5, 3, 6, 6, 4, 2, 1, 6, 4, 4, 2,\n",
              "       4, 1, 3, 6, 6, 6, 4, 5, 4, 3, 3, 4])"
            ]
          },
          "metadata": {},
          "execution_count": 22
        }
      ]
    },
    {
      "cell_type": "code",
      "source": [
        "#도수분포표\n",
        "freq,_ = np.histogram(sample, bins=6, range=(1,7))\n",
        "pd.DataFrame({'frequency':freq,\n",
        "              'relative frequency': freq / num_trial},\n",
        "             index = pd.Index(np.arange(1,7), name='dice'))"
      ],
      "metadata": {
        "colab": {
          "base_uri": "https://localhost:8080/",
          "height": 269
        },
        "id": "ta1Qsb7emB2A",
        "outputId": "313e13ce-f115-496b-8c97-bd8e3791dd6c"
      },
      "execution_count": 26,
      "outputs": [
        {
          "output_type": "execute_result",
          "data": {
            "text/plain": [
              "      frequency  relative frequency\n",
              "dice                               \n",
              "1             5                0.05\n",
              "2             9                0.09\n",
              "3            13                0.13\n",
              "4            27                0.27\n",
              "5            19                0.19\n",
              "6            27                0.27"
            ],
            "text/html": [
              "\n",
              "  <div id=\"df-11d0110f-970d-4fa9-8ebe-9234e9cd710b\">\n",
              "    <div class=\"colab-df-container\">\n",
              "      <div>\n",
              "<style scoped>\n",
              "    .dataframe tbody tr th:only-of-type {\n",
              "        vertical-align: middle;\n",
              "    }\n",
              "\n",
              "    .dataframe tbody tr th {\n",
              "        vertical-align: top;\n",
              "    }\n",
              "\n",
              "    .dataframe thead th {\n",
              "        text-align: right;\n",
              "    }\n",
              "</style>\n",
              "<table border=\"1\" class=\"dataframe\">\n",
              "  <thead>\n",
              "    <tr style=\"text-align: right;\">\n",
              "      <th></th>\n",
              "      <th>frequency</th>\n",
              "      <th>relative frequency</th>\n",
              "    </tr>\n",
              "    <tr>\n",
              "      <th>dice</th>\n",
              "      <th></th>\n",
              "      <th></th>\n",
              "    </tr>\n",
              "  </thead>\n",
              "  <tbody>\n",
              "    <tr>\n",
              "      <th>1</th>\n",
              "      <td>5</td>\n",
              "      <td>0.05</td>\n",
              "    </tr>\n",
              "    <tr>\n",
              "      <th>2</th>\n",
              "      <td>9</td>\n",
              "      <td>0.09</td>\n",
              "    </tr>\n",
              "    <tr>\n",
              "      <th>3</th>\n",
              "      <td>13</td>\n",
              "      <td>0.13</td>\n",
              "    </tr>\n",
              "    <tr>\n",
              "      <th>4</th>\n",
              "      <td>27</td>\n",
              "      <td>0.27</td>\n",
              "    </tr>\n",
              "    <tr>\n",
              "      <th>5</th>\n",
              "      <td>19</td>\n",
              "      <td>0.19</td>\n",
              "    </tr>\n",
              "    <tr>\n",
              "      <th>6</th>\n",
              "      <td>27</td>\n",
              "      <td>0.27</td>\n",
              "    </tr>\n",
              "  </tbody>\n",
              "</table>\n",
              "</div>\n",
              "      <button class=\"colab-df-convert\" onclick=\"convertToInteractive('df-11d0110f-970d-4fa9-8ebe-9234e9cd710b')\"\n",
              "              title=\"Convert this dataframe to an interactive table.\"\n",
              "              style=\"display:none;\">\n",
              "        \n",
              "  <svg xmlns=\"http://www.w3.org/2000/svg\" height=\"24px\"viewBox=\"0 0 24 24\"\n",
              "       width=\"24px\">\n",
              "    <path d=\"M0 0h24v24H0V0z\" fill=\"none\"/>\n",
              "    <path d=\"M18.56 5.44l.94 2.06.94-2.06 2.06-.94-2.06-.94-.94-2.06-.94 2.06-2.06.94zm-11 1L8.5 8.5l.94-2.06 2.06-.94-2.06-.94L8.5 2.5l-.94 2.06-2.06.94zm10 10l.94 2.06.94-2.06 2.06-.94-2.06-.94-.94-2.06-.94 2.06-2.06.94z\"/><path d=\"M17.41 7.96l-1.37-1.37c-.4-.4-.92-.59-1.43-.59-.52 0-1.04.2-1.43.59L10.3 9.45l-7.72 7.72c-.78.78-.78 2.05 0 2.83L4 21.41c.39.39.9.59 1.41.59.51 0 1.02-.2 1.41-.59l7.78-7.78 2.81-2.81c.8-.78.8-2.07 0-2.86zM5.41 20L4 18.59l7.72-7.72 1.47 1.35L5.41 20z\"/>\n",
              "  </svg>\n",
              "      </button>\n",
              "      \n",
              "  <style>\n",
              "    .colab-df-container {\n",
              "      display:flex;\n",
              "      flex-wrap:wrap;\n",
              "      gap: 12px;\n",
              "    }\n",
              "\n",
              "    .colab-df-convert {\n",
              "      background-color: #E8F0FE;\n",
              "      border: none;\n",
              "      border-radius: 50%;\n",
              "      cursor: pointer;\n",
              "      display: none;\n",
              "      fill: #1967D2;\n",
              "      height: 32px;\n",
              "      padding: 0 0 0 0;\n",
              "      width: 32px;\n",
              "    }\n",
              "\n",
              "    .colab-df-convert:hover {\n",
              "      background-color: #E2EBFA;\n",
              "      box-shadow: 0px 1px 2px rgba(60, 64, 67, 0.3), 0px 1px 3px 1px rgba(60, 64, 67, 0.15);\n",
              "      fill: #174EA6;\n",
              "    }\n",
              "\n",
              "    [theme=dark] .colab-df-convert {\n",
              "      background-color: #3B4455;\n",
              "      fill: #D2E3FC;\n",
              "    }\n",
              "\n",
              "    [theme=dark] .colab-df-convert:hover {\n",
              "      background-color: #434B5C;\n",
              "      box-shadow: 0px 1px 3px 1px rgba(0, 0, 0, 0.15);\n",
              "      filter: drop-shadow(0px 1px 2px rgba(0, 0, 0, 0.3));\n",
              "      fill: #FFFFFF;\n",
              "    }\n",
              "  </style>\n",
              "\n",
              "      <script>\n",
              "        const buttonEl =\n",
              "          document.querySelector('#df-11d0110f-970d-4fa9-8ebe-9234e9cd710b button.colab-df-convert');\n",
              "        buttonEl.style.display =\n",
              "          google.colab.kernel.accessAllowed ? 'block' : 'none';\n",
              "\n",
              "        async function convertToInteractive(key) {\n",
              "          const element = document.querySelector('#df-11d0110f-970d-4fa9-8ebe-9234e9cd710b');\n",
              "          const dataTable =\n",
              "            await google.colab.kernel.invokeFunction('convertToInteractive',\n",
              "                                                     [key], {});\n",
              "          if (!dataTable) return;\n",
              "\n",
              "          const docLinkHtml = 'Like what you see? Visit the ' +\n",
              "            '<a target=\"_blank\" href=https://colab.research.google.com/notebooks/data_table.ipynb>data table notebook</a>'\n",
              "            + ' to learn more about interactive tables.';\n",
              "          element.innerHTML = '';\n",
              "          dataTable['output_type'] = 'display_data';\n",
              "          await google.colab.output.renderOutput(dataTable, element);\n",
              "          const docLink = document.createElement('div');\n",
              "          docLink.innerHTML = docLinkHtml;\n",
              "          element.appendChild(docLink);\n",
              "        }\n",
              "      </script>\n",
              "    </div>\n",
              "  </div>\n",
              "  "
            ]
          },
          "metadata": {},
          "execution_count": 26
        }
      ]
    },
    {
      "cell_type": "code",
      "source": [
        "#실제의 확률분포와 히스토그램 그려보기\n",
        "fig = plt.figure(figsize=(10,6))\n",
        "ax = fig.add_subplot(111)\n",
        "ax.hist(sample, bins=6, range=(1,7), density=True, rwidth=0.8)\n",
        "#실제의 확률분포를 가로선으로 표시\n",
        "ax.hlines(prob, np.arange(1,7), np.arange(2,8), colors='gray')\n",
        "\n",
        "#막대그래프에 눈금을 표시\n",
        "ax.set_xticks(np.linspace(1.5, 6.5, 6))\n",
        "\n",
        "#주사위 눈의 값은 [1,2,3,4,5,6]\n",
        "ax.set_xticklabels(np.arange(1,7))\n",
        "ax.set_xlable('dice')\n",
        "ax.set_ylable('relative frequency')\n",
        "plt.show()"
      ],
      "metadata": {
        "colab": {
          "base_uri": "https://localhost:8080/",
          "height": 606
        },
        "id": "DpKfwqZ2sDDc",
        "outputId": "fbaff0c9-eab3-459b-f861-73aece9c1e00"
      },
      "execution_count": 32,
      "outputs": [
        {
          "output_type": "error",
          "ename": "AttributeError",
          "evalue": "ignored",
          "traceback": [
            "\u001b[0;31m---------------------------------------------------------------------------\u001b[0m",
            "\u001b[0;31mAttributeError\u001b[0m                            Traceback (most recent call last)",
            "\u001b[0;32m<ipython-input-32-191aca42ae6b>\u001b[0m in \u001b[0;36m<module>\u001b[0;34m\u001b[0m\n\u001b[1;32m     11\u001b[0m \u001b[0;31m#주사위 눈의 값은 [1,2,3,4,5,6]\u001b[0m\u001b[0;34m\u001b[0m\u001b[0;34m\u001b[0m\u001b[0;34m\u001b[0m\u001b[0m\n\u001b[1;32m     12\u001b[0m \u001b[0max\u001b[0m\u001b[0;34m.\u001b[0m\u001b[0mset_xticklabels\u001b[0m\u001b[0;34m(\u001b[0m\u001b[0mnp\u001b[0m\u001b[0;34m.\u001b[0m\u001b[0marange\u001b[0m\u001b[0;34m(\u001b[0m\u001b[0;36m1\u001b[0m\u001b[0;34m,\u001b[0m\u001b[0;36m7\u001b[0m\u001b[0;34m)\u001b[0m\u001b[0;34m)\u001b[0m\u001b[0;34m\u001b[0m\u001b[0;34m\u001b[0m\u001b[0m\n\u001b[0;32m---> 13\u001b[0;31m \u001b[0max\u001b[0m\u001b[0;34m.\u001b[0m\u001b[0mset_xlable\u001b[0m\u001b[0;34m(\u001b[0m\u001b[0;34m'dice'\u001b[0m\u001b[0;34m)\u001b[0m\u001b[0;34m\u001b[0m\u001b[0;34m\u001b[0m\u001b[0m\n\u001b[0m\u001b[1;32m     14\u001b[0m \u001b[0max\u001b[0m\u001b[0;34m.\u001b[0m\u001b[0mset_ylable\u001b[0m\u001b[0;34m(\u001b[0m\u001b[0;34m'relative frequency'\u001b[0m\u001b[0;34m)\u001b[0m\u001b[0;34m\u001b[0m\u001b[0;34m\u001b[0m\u001b[0m\n\u001b[1;32m     15\u001b[0m \u001b[0mplt\u001b[0m\u001b[0;34m.\u001b[0m\u001b[0mshow\u001b[0m\u001b[0;34m(\u001b[0m\u001b[0;34m)\u001b[0m\u001b[0;34m\u001b[0m\u001b[0;34m\u001b[0m\u001b[0m\n",
            "\u001b[0;31mAttributeError\u001b[0m: 'AxesSubplot' object has no attribute 'set_xlable'"
          ]
        },
        {
          "output_type": "display_data",
          "data": {
            "text/plain": [
              "<Figure size 720x432 with 1 Axes>"
            ],
            "image/png": "[encoded data removed]"
          },
          "metadata": {
            "needs_background": "light"
          }
        }
      ]
    },
    {
      "cell_type": "code",
      "source": [
        "#위의 결과 해석 : 100번 시행하여 얻은 눈의 상대도수로부터 추측된 확률분포와 실제의 확률분포 사이에는 상당한 차이가 있다.\n",
        "다시 시행횟수를 늘려 10000번 시행하여 히스토그램 살펴보기"
      ],
      "metadata": {
        "id": "EsD4vVBNvfjJ"
      },
      "execution_count": null,
      "outputs": []
    },
    {
      "cell_type": "code",
      "source": [],
      "metadata": {
        "id": "2p0KaCbKzapw"
      },
      "execution_count": null,
      "outputs": []
    },
    {
      "cell_type": "code",
      "source": [
        "num_trial = 10000\n",
        "sample = np.random.choice(dice, size=num_trial, p=prob)\n",
        "\n",
        "fig=plt.figure(figsize=(10,6))\n",
        "ax= fig.add_subplot(111)\n",
        "ax.hist(sample, bins=6, range=(1,7), density=True, rwidth=0.8)\n",
        "ax.hlines(prob, np.arange(1,7), np.arange(2,8), colors='gray')\n",
        "ax.set_xticks(np.linspace(1.5,6.5,6))\n",
        "ax.set_xticklabels(np.arange(1,7))\n",
        "ax.set_xlabel('dice')\n",
        "ax.set_ylabel('relative frequency')  #상대도수('relative frequency')가 실제의 확률분포에 가까워졌다. 시행횟수 증가시 상대도수는 확률분포로 수렴됨.\n",
        "plt.show()\n",
        "\n",
        "#확률변수 시행을 시뮬레이션하여 그 결과를 시각화 하는 것은 작위적인 방법이지만 직관적으로 이해 가능한 장점이 있음."
      ],
      "metadata": {
        "colab": {
          "base_uri": "https://localhost:8080/",
          "height": 392
        },
        "id": "7eG3DDyKuwJD",
        "outputId": "1b182d74-cfee-43dc-8c3a-161b72fbb73b"
      },
      "execution_count": 40,
      "outputs": [
        {
          "output_type": "display_data",
          "data": {
            "text/plain": [
              "<Figure size 720x432 with 1 Axes>"
            ],
            "image/png": "[encoded data removed]"
          },
          "metadata": {
            "needs_background": "light"
          }
        }
      ]
    },
    {
      "cell_type": "markdown",
      "source": [
        "추측통계의 확률\n",
        ":무작위 추출을 확률모형으로 기술가능, 무작위추출로 얻은 표본은 모집단의 확률분포를 따르는 확률변수로 간주. 즉, 확률변수의 실현값"
      ],
      "metadata": {
        "id": "J1p7dS7YziVN"
      }
    },
    {
      "cell_type": "code",
      "source": [
        "fig=plt.figure(figsize=(10,6))\n",
        "ax= fig.add_subplot(111)\n",
        "ax.hist(scores, bins=100, range=(0,100), density=True)\n",
        "ax.set_xlim(20, 100)\n",
        "ax.set_ylim(0, 0.042)\n",
        "ax.set_xlable('score')\n",
        "ax.set_ylable('relative frequency')\n",
        "plt.show()\n",
        "\n",
        "#결과해석 :전교생 시험 점수에 대한 히스토그램이 나옴\n",
        "#69점을 얻은 학생은 전교생의 0.04%(=4%)를 차지하고 있음. 무작위추출을 수행하면 4%확률로 69점이라는 표본 데이터를 얻게 됨\n",
        "#이 결과는 다른 점수에 관해서도 상대도수(relative grequency)는 해당 점수를 얻는 확률에 대응함. \n",
        "#이 히스토그램을 모집단의 확률분포로 간주할 수 있음 (무직위추출은 확률분포룰 따르는 확률변수의 시행)"
      ],
      "metadata": {
        "colab": {
          "base_uri": "https://localhost:8080/",
          "height": 602
        },
        "id": "jyAYMePZzb3m",
        "outputId": "9f482caf-4092-4571-ec73-b81e54adabe1"
      },
      "execution_count": 45,
      "outputs": [
        {
          "output_type": "error",
          "ename": "AttributeError",
          "evalue": "ignored",
          "traceback": [
            "\u001b[0;31m---------------------------------------------------------------------------\u001b[0m",
            "\u001b[0;31mAttributeError\u001b[0m                            Traceback (most recent call last)",
            "\u001b[0;32m<ipython-input-45-539a8ba73f09>\u001b[0m in \u001b[0;36m<module>\u001b[0;34m\u001b[0m\n\u001b[1;32m      4\u001b[0m \u001b[0max\u001b[0m\u001b[0;34m.\u001b[0m\u001b[0mset_xlim\u001b[0m\u001b[0;34m(\u001b[0m\u001b[0;36m20\u001b[0m\u001b[0;34m,\u001b[0m \u001b[0;36m100\u001b[0m\u001b[0;34m)\u001b[0m\u001b[0;34m\u001b[0m\u001b[0;34m\u001b[0m\u001b[0m\n\u001b[1;32m      5\u001b[0m \u001b[0max\u001b[0m\u001b[0;34m.\u001b[0m\u001b[0mset_ylim\u001b[0m\u001b[0;34m(\u001b[0m\u001b[0;36m0\u001b[0m\u001b[0;34m,\u001b[0m \u001b[0;36m0.042\u001b[0m\u001b[0;34m)\u001b[0m\u001b[0;34m\u001b[0m\u001b[0;34m\u001b[0m\u001b[0m\n\u001b[0;32m----> 6\u001b[0;31m \u001b[0max\u001b[0m\u001b[0;34m.\u001b[0m\u001b[0mset_xlable\u001b[0m\u001b[0;34m(\u001b[0m\u001b[0;34m'score'\u001b[0m\u001b[0;34m)\u001b[0m\u001b[0;34m\u001b[0m\u001b[0;34m\u001b[0m\u001b[0m\n\u001b[0m\u001b[1;32m      7\u001b[0m \u001b[0max\u001b[0m\u001b[0;34m.\u001b[0m\u001b[0mset_ylable\u001b[0m\u001b[0;34m(\u001b[0m\u001b[0;34m'relative frequency'\u001b[0m\u001b[0;34m)\u001b[0m\u001b[0;34m\u001b[0m\u001b[0;34m\u001b[0m\u001b[0m\n\u001b[1;32m      8\u001b[0m \u001b[0mplt\u001b[0m\u001b[0;34m.\u001b[0m\u001b[0mshow\u001b[0m\u001b[0;34m(\u001b[0m\u001b[0;34m)\u001b[0m\u001b[0;34m\u001b[0m\u001b[0;34m\u001b[0m\u001b[0m\n",
            "\u001b[0;31mAttributeError\u001b[0m: 'AxesSubplot' object has no attribute 'set_xlable'"
          ]
        },
        {
          "output_type": "display_data",
          "data": {
            "text/plain": [
              "<Figure size 720x432 with 1 Axes>"
            ],
            "image/png": "[encoded data removed]"
          },
          "metadata": {
            "needs_background": "light"
          }
        }
      ]
    },
    {
      "cell_type": "code",
      "source": [
        "np. random.choice(scores)   #90점이라는 실현값을 얻음. 해석: 무작위추출로 얻은 표본데이터가 90점이었다.\n",
        "#무작위추출에서 표본크기가 커지면 , 표본데이터의 상대도수는 실제의 확률분포에 가까워짐"
      ],
      "metadata": {
        "colab": {
          "base_uri": "https://localhost:8080/"
        },
        "id": "AOjgkH_L2FAw",
        "outputId": "fe5e8148-198a-4b57-90b1-66edfcc4c400"
      },
      "execution_count": 62,
      "outputs": [
        {
          "output_type": "execute_result",
          "data": {
            "text/plain": [
              "90"
            ]
          },
          "metadata": {},
          "execution_count": 62
        }
      ]
    },
    {
      "cell_type": "code",
      "source": [
        "#무작위추출 샘플 사이즈가 10000인 표본을 추출하여 히스토그램 그리기\n",
        "\n",
        "sample = np.random.choice(scores, 10000)\n",
        "\n",
        "fig = plt.figure(figsize=(10,6))\n",
        "ax= fig.add_subplot(111)\n",
        "ax.hist(sample, bins=100, range=(0, 100), density=True)\n",
        "ax.set_xlim(20,100)\n",
        "ax.set_ylim(0,0.042)\n",
        "ax.set_xlable('score')\n",
        "ax.set_ylable('relative frequency')\n",
        "plt.show()"
      ],
      "metadata": {
        "colab": {
          "base_uri": "https://localhost:8080/",
          "height": 602
        },
        "id": "lvxklg4J2p4-",
        "outputId": "81040eac-ff2f-4f99-a33f-7d06c9230db5"
      },
      "execution_count": 63,
      "outputs": [
        {
          "output_type": "error",
          "ename": "AttributeError",
          "evalue": "ignored",
          "traceback": [
            "\u001b[0;31m---------------------------------------------------------------------------\u001b[0m",
            "\u001b[0;31mAttributeError\u001b[0m                            Traceback (most recent call last)",
            "\u001b[0;32m<ipython-input-63-69417dcbe574>\u001b[0m in \u001b[0;36m<module>\u001b[0;34m\u001b[0m\n\u001b[1;32m      8\u001b[0m \u001b[0max\u001b[0m\u001b[0;34m.\u001b[0m\u001b[0mset_xlim\u001b[0m\u001b[0;34m(\u001b[0m\u001b[0;36m20\u001b[0m\u001b[0;34m,\u001b[0m\u001b[0;36m100\u001b[0m\u001b[0;34m)\u001b[0m\u001b[0;34m\u001b[0m\u001b[0;34m\u001b[0m\u001b[0m\n\u001b[1;32m      9\u001b[0m \u001b[0max\u001b[0m\u001b[0;34m.\u001b[0m\u001b[0mset_ylim\u001b[0m\u001b[0;34m(\u001b[0m\u001b[0;36m0\u001b[0m\u001b[0;34m,\u001b[0m\u001b[0;36m0.042\u001b[0m\u001b[0;34m)\u001b[0m\u001b[0;34m\u001b[0m\u001b[0;34m\u001b[0m\u001b[0m\n\u001b[0;32m---> 10\u001b[0;31m \u001b[0max\u001b[0m\u001b[0;34m.\u001b[0m\u001b[0mset_xlable\u001b[0m\u001b[0;34m(\u001b[0m\u001b[0;34m'score'\u001b[0m\u001b[0;34m)\u001b[0m\u001b[0;34m\u001b[0m\u001b[0;34m\u001b[0m\u001b[0m\n\u001b[0m\u001b[1;32m     11\u001b[0m \u001b[0max\u001b[0m\u001b[0;34m.\u001b[0m\u001b[0mset_ylable\u001b[0m\u001b[0;34m(\u001b[0m\u001b[0;34m'relative frequency'\u001b[0m\u001b[0;34m)\u001b[0m\u001b[0;34m\u001b[0m\u001b[0;34m\u001b[0m\u001b[0m\n\u001b[1;32m     12\u001b[0m \u001b[0mplt\u001b[0m\u001b[0;34m.\u001b[0m\u001b[0mshow\u001b[0m\u001b[0;34m(\u001b[0m\u001b[0;34m)\u001b[0m\u001b[0;34m\u001b[0m\u001b[0;34m\u001b[0m\u001b[0m\n",
            "\u001b[0;31mAttributeError\u001b[0m: 'AxesSubplot' object has no attribute 'set_xlable'"
          ]
        },
        {
          "output_type": "display_data",
          "data": {
            "text/plain": [
              "<Figure size 720x432 with 1 Axes>"
            ],
            "image/png": "[encoded data removed]"
          },
          "metadata": {
            "needs_background": "light"
          }
        }
      ]
    },
    {
      "cell_type": "code",
      "source": [
        "#표본평균 구하기\n",
        "#(무작위추출로 표본크기가 20인 표본을 추출하여 표본평균을 계산하는 작업을 10000번 수행해서 그 결과를 히스토그램으로 그려 표본평균 분포 살펴보기)\n",
        "\n",
        "sample_means=[np.random.choice(scores,20).mean()\n",
        "              for _ in range(10000)]\n",
        "fig=plt.figure(figsize=(10,6))\n",
        "ax=fig.add_subplot(111)\n",
        "ax.hist(sample_means, bins=100, range=(0,100), density=True)\n",
        "\n",
        "#모평균을 세로선으로 표시\n",
        "ax.vlines(np.mean(scores),0,1,'gray')\n",
        "ax.set_xlim(50,90)\n",
        "ax.set_ylim(0,0.13)\n",
        "ax.set_xlable('score')\n",
        "ax.set_ylable('relative frequency')\n",
        "plt.show()"
      ],
      "metadata": {
        "colab": {
          "base_uri": "https://localhost:8080/",
          "height": 602
        },
        "id": "HKPAgUPX34b8",
        "outputId": "2c6054e4-c5c4-41c7-bc27-2eb7db504721"
      },
      "execution_count": 69,
      "outputs": [
        {
          "output_type": "error",
          "ename": "AttributeError",
          "evalue": "ignored",
          "traceback": [
            "\u001b[0;31m---------------------------------------------------------------------------\u001b[0m",
            "\u001b[0;31mAttributeError\u001b[0m                            Traceback (most recent call last)",
            "\u001b[0;32m<ipython-input-69-a1c396b014cd>\u001b[0m in \u001b[0;36m<module>\u001b[0;34m\u001b[0m\n\u001b[1;32m     12\u001b[0m \u001b[0max\u001b[0m\u001b[0;34m.\u001b[0m\u001b[0mset_xlim\u001b[0m\u001b[0;34m(\u001b[0m\u001b[0;36m50\u001b[0m\u001b[0;34m,\u001b[0m\u001b[0;36m90\u001b[0m\u001b[0;34m)\u001b[0m\u001b[0;34m\u001b[0m\u001b[0;34m\u001b[0m\u001b[0m\n\u001b[1;32m     13\u001b[0m \u001b[0max\u001b[0m\u001b[0;34m.\u001b[0m\u001b[0mset_ylim\u001b[0m\u001b[0;34m(\u001b[0m\u001b[0;36m0\u001b[0m\u001b[0;34m,\u001b[0m\u001b[0;36m0.13\u001b[0m\u001b[0;34m)\u001b[0m\u001b[0;34m\u001b[0m\u001b[0;34m\u001b[0m\u001b[0m\n\u001b[0;32m---> 14\u001b[0;31m \u001b[0max\u001b[0m\u001b[0;34m.\u001b[0m\u001b[0mset_xlable\u001b[0m\u001b[0;34m(\u001b[0m\u001b[0;34m'score'\u001b[0m\u001b[0;34m)\u001b[0m\u001b[0;34m\u001b[0m\u001b[0;34m\u001b[0m\u001b[0m\n\u001b[0m\u001b[1;32m     15\u001b[0m \u001b[0max\u001b[0m\u001b[0;34m.\u001b[0m\u001b[0mset_ylable\u001b[0m\u001b[0;34m(\u001b[0m\u001b[0;34m'relative frequency'\u001b[0m\u001b[0;34m)\u001b[0m\u001b[0;34m\u001b[0m\u001b[0;34m\u001b[0m\u001b[0m\n\u001b[1;32m     16\u001b[0m \u001b[0mplt\u001b[0m\u001b[0;34m.\u001b[0m\u001b[0mshow\u001b[0m\u001b[0;34m(\u001b[0m\u001b[0;34m)\u001b[0m\u001b[0;34m\u001b[0m\u001b[0;34m\u001b[0m\u001b[0m\n",
            "\u001b[0;31mAttributeError\u001b[0m: 'AxesSubplot' object has no attribute 'set_xlable'"
          ]
        },
        {
          "output_type": "display_data",
          "data": {
            "text/plain": [
              "<Figure size 720x432 with 1 Axes>"
            ],
            "image/png": "[encoded data removed]"
          },
          "metadata": {
            "needs_background": "light"
          }
        }
      ]
    },
    {
      "cell_type": "markdown",
      "source": [
        "#표본평균의 분포 그램 해석 : 그림의 세로선이 모평균.\n",
        "표본평균은 산포도 그 자체. 모평균을 중심으로 분포하고 있음.\n",
        "무작위추출에 의한 표본평균으로 모평균을 추측할 수 있었음."
      ],
      "metadata": {
        "id": "bv0fYBRA6ls-"
      }
    },
    {
      "cell_type": "code",
      "source": [],
      "metadata": {
        "id": "8WNegqF367um"
      },
      "execution_count": 69,
      "outputs": []
    }
  ]
}