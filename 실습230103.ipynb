{
  "nbformat": 4,
  "nbformat_minor": 0,
  "metadata": {
    "colab": {
      "provenance": [],
      "authorship_tag": "ABX9TyN2b3tLf4Z/LRTRoNR6T4rI",
      "include_colab_link": true
    },
    "kernelspec": {
      "name": "python3",
      "display_name": "Python 3"
    },
    "language_info": {
      "name": "python"
    }
  },
  "cells": [
    {
      "cell_type": "markdown",
      "metadata": {
        "id": "view-in-github",
        "colab_type": "text"
      },
      "source": [
        "<a href=\"https://colab.research.google.com/github/bigdatakang0000/START/blob/main/%EC%8B%A4%EC%8A%B5230103.ipynb\" target=\"_parent\"><img src=\"https://colab.research.google.com/assets/colab-badge.svg\" alt=\"Open In Colab\"/></a>"
      ]
    },
    {
      "cell_type": "markdown",
      "source": [
        "빅데이터마케팅 분석 전문가#2\n",
        "강경숙 \n",
        "2023.01.12"
      ],
      "metadata": {
        "id": "LR8i7C_4JntV"
      }
    },
    {
      "cell_type": "code",
      "source": [
        "a = 123\n",
        "b =  abc\n",
        "print(type(\"a\"), type(\"b\"))\n",
        "print(\"a\", \"b\")"
      ],
      "metadata": {
        "colab": {
          "base_uri": "https://localhost:8080/",
          "height": 232
        },
        "id": "Hn3g0lwhJwPS",
        "outputId": "3b587c23-671e-4e9d-de7f-d50361934044"
      },
      "execution_count": 16,
      "outputs": [
        {
          "output_type": "error",
          "ename": "NameError",
          "evalue": "ignored",
          "traceback": [
            "\u001b[0;31m---------------------------------------------------------------------------\u001b[0m",
            "\u001b[0;31mNameError\u001b[0m                                 Traceback (most recent call last)",
            "\u001b[0;32m<ipython-input-16-1d2ac2c5ab72>\u001b[0m in \u001b[0;36m<module>\u001b[0;34m\u001b[0m\n\u001b[1;32m      1\u001b[0m \u001b[0ma\u001b[0m \u001b[0;34m=\u001b[0m \u001b[0;36m123\u001b[0m\u001b[0;34m\u001b[0m\u001b[0;34m\u001b[0m\u001b[0m\n\u001b[0;32m----> 2\u001b[0;31m \u001b[0mb\u001b[0m \u001b[0;34m=\u001b[0m  \u001b[0mabc\u001b[0m\u001b[0;34m\u001b[0m\u001b[0;34m\u001b[0m\u001b[0m\n\u001b[0m\u001b[1;32m      3\u001b[0m \u001b[0mprint\u001b[0m\u001b[0;34m(\u001b[0m\u001b[0mtype\u001b[0m\u001b[0;34m(\u001b[0m\u001b[0;34m\"a\"\u001b[0m\u001b[0;34m)\u001b[0m\u001b[0;34m,\u001b[0m \u001b[0mtype\u001b[0m\u001b[0;34m(\u001b[0m\u001b[0;34m\"b\"\u001b[0m\u001b[0;34m)\u001b[0m\u001b[0;34m)\u001b[0m\u001b[0;34m\u001b[0m\u001b[0;34m\u001b[0m\u001b[0m\n\u001b[1;32m      4\u001b[0m \u001b[0mprint\u001b[0m\u001b[0;34m(\u001b[0m\u001b[0;34m\"a\"\u001b[0m\u001b[0;34m,\u001b[0m \u001b[0;34m\"b\"\u001b[0m\u001b[0;34m)\u001b[0m\u001b[0;34m\u001b[0m\u001b[0;34m\u001b[0m\u001b[0m\n",
            "\u001b[0;31mNameError\u001b[0m: name 'abc' is not defined"
          ]
        }
      ]
    },
    {
      "cell_type": "code",
      "source": [
        "Tuple = (\"a\",\"b\",\"c\",\"d\")"
      ],
      "metadata": {
        "id": "pO-kgdJvKhez"
      },
      "execution_count": 11,
      "outputs": []
    },
    {
      "cell_type": "code",
      "source": [
        "score = 60\n",
        "if score > 40 :\n",
        "    print(\"vip\")\n",
        "else :\n",
        "    print(\"member\")"
      ],
      "metadata": {
        "colab": {
          "base_uri": "https://localhost:8080/"
        },
        "id": "n_cOVSU8KeCA",
        "outputId": "74827af2-49df-4a97-d366-a9cb1fd68477"
      },
      "execution_count": 14,
      "outputs": [
        {
          "output_type": "stream",
          "name": "stdout",
          "text": [
            "vip\n"
          ]
        }
      ]
    },
    {
      "cell_type": "code",
      "source": [
        "for i in "
      ],
      "metadata": {
        "id": "Q9Q8h0q1LeDS"
      },
      "execution_count": null,
      "outputs": []
    },
    {
      "cell_type": "code",
      "source": [
        "customer_count = 0\n",
        "sum1 = 0\n",
        "\n",
        "print( \"customer_count_sum\")\n",
        "\n",
        "while(sum1<20) :\n",
        "    customer_count = customer_count +1\n",
        "    sum1= sum1 +customer_count\n",
        "    print(customer_count,sum1)"
      ],
      "metadata": {
        "colab": {
          "base_uri": "https://localhost:8080/"
        },
        "id": "VRX9pLBnLkm5",
        "outputId": "98157661-7b93-4243-85bf-36f61fc56068"
      },
      "execution_count": 17,
      "outputs": [
        {
          "output_type": "stream",
          "name": "stdout",
          "text": [
            "customer_count_sum\n",
            "1 1\n",
            "2 3\n",
            "3 6\n",
            "4 10\n",
            "5 15\n",
            "6 21\n"
          ]
        }
      ]
    },
    {
      "cell_type": "code",
      "source": [],
      "metadata": {
        "id": "_H4CokqSMIzl"
      },
      "execution_count": null,
      "outputs": []
    },
    {
      "cell_type": "code",
      "source": [
        "#Numpy\n"
      ],
      "metadata": {
        "id": "Roe_cNUbMKH7"
      },
      "execution_count": null,
      "outputs": []
    },
    {
      "cell_type": "code",
      "source": [
        "from matplotlib import pyplot as plt\n",
        "from pandas import DataFrame\n",
        "import numpy as np\n",
        "from pandas import *\n",
        "\n"
      ],
      "metadata": {
        "id": "T70uj90OMOlT"
      },
      "execution_count": 18,
      "outputs": []
    },
    {
      "cell_type": "code",
      "source": [
        "data = [1,2,3,4,5,6]\n",
        "arr1= np.array(data)\n",
        "arr1"
      ],
      "metadata": {
        "colab": {
          "base_uri": "https://localhost:8080/"
        },
        "id": "kd-3IYoHMr65",
        "outputId": "50f9290d-fe5d-4c23-e56a-39bef6f2add5"
      },
      "execution_count": 19,
      "outputs": [
        {
          "output_type": "execute_result",
          "data": {
            "text/plain": [
              "array([1, 2, 3, 4, 5, 6])"
            ]
          },
          "metadata": {},
          "execution_count": 19
        }
      ]
    },
    {
      "cell_type": "code",
      "source": [
        "arr1.dtype"
      ],
      "metadata": {
        "colab": {
          "base_uri": "https://localhost:8080/"
        },
        "id": "aIFdEBkjNn7P",
        "outputId": "aa732991-5ed9-4cf8-c636-81259e572815"
      },
      "execution_count": 24,
      "outputs": [
        {
          "output_type": "execute_result",
          "data": {
            "text/plain": [
              "dtype('int64')"
            ]
          },
          "metadata": {},
          "execution_count": 24
        }
      ]
    },
    {
      "cell_type": "code",
      "source": [
        "arr1 = np.arange(start = 1, stop = 20, step = 2)\n",
        "print(arr1)"
      ],
      "metadata": {
        "colab": {
          "base_uri": "https://localhost:8080/"
        },
        "id": "K_1cfrO1M0l4",
        "outputId": "a3c8ce84-4fa4-4082-ead9-965a3d4998a5"
      },
      "execution_count": 23,
      "outputs": [
        {
          "output_type": "stream",
          "name": "stdout",
          "text": [
            "[ 1  3  5  7  9 11 13 15 17 19]\n"
          ]
        }
      ]
    },
    {
      "cell_type": "code",
      "source": [
        "arr1=np.array([10,12,14,16,18])\n",
        "arr2=np.array([3,4,5,6,7])\n",
        "\n",
        "print(\"더하기\")\n",
        "print(arr1+arr2)\n",
        "print(\"----빼기----\")\n",
        "print(arr1-arr2)\n",
        "print(\"----곱하기----\")\n",
        "print(arr1*arr2)\n",
        "print(\"----나누기----\")\n",
        "print(arr1/arr2)"
      ],
      "metadata": {
        "colab": {
          "base_uri": "https://localhost:8080/"
        },
        "id": "olyV2_T2NB4S",
        "outputId": "aef8a89a-ce99-4067-8718-05fb579cbaf9"
      },
      "execution_count": 25,
      "outputs": [
        {
          "output_type": "stream",
          "name": "stdout",
          "text": [
            "더하기\n",
            "[13 16 19 22 25]\n",
            "----빼기----\n",
            "[ 7  8  9 10 11]\n",
            "----곱하기----\n",
            "[ 30  48  70  96 126]\n",
            "----나누기----\n",
            "[3.33333333 3.         2.8        2.66666667 2.57142857]\n"
          ]
        }
      ]
    }
  ]
}