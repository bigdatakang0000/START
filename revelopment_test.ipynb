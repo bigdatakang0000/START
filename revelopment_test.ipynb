{
  "nbformat": 4,
  "nbformat_minor": 0,
  "metadata": {
    "colab": {
      "provenance": [],
      "mount_file_id": "1pHwT8nwvsauFNof5LLBC0Ft-jq8l8ftw",
      "authorship_tag": "ABX9TyN5Jmqkr4uzaR1IBxKL6GyM",
      "include_colab_link": true
    },
    "kernelspec": {
      "name": "python3",
      "display_name": "Python 3"
    },
    "language_info": {
      "name": "python"
    }
  },
  "cells": [
    {
      "cell_type": "markdown",
      "metadata": {
        "id": "view-in-github",
        "colab_type": "text"
      },
      "source": [
        "<a href=\"https://colab.research.google.com/github/bigdatakang0000/START/blob/main/revelopment_test.ipynb\" target=\"_parent\"><img src=\"https://colab.research.google.com/assets/colab-badge.svg\" alt=\"Open In Colab\"/></a>"
      ]
    },
    {
      "cell_type": "code",
      "execution_count": 89,
      "metadata": {
        "id": "W7Pbfpi-sDZ2"
      },
      "outputs": [],
      "source": [
        "import numpy as np\n",
        "import pandas as pd\n",
        "import matplotlib.pyplot as plt\n",
        "\n",
        "%precision 3\n",
        "%matplotlib inline"
      ]
    },
    {
      "cell_type": "code",
      "source": [
        "df = pd.read_csv('/content/drive/MyDrive/redevelopment_data.csv', encoding=\"cp949\",\n",
        "                 index_col='gu')\n",
        "df"
      ],
      "metadata": {
        "colab": {
          "base_uri": "https://localhost:8080/",
          "height": 1000
        },
        "id": "atUfH2R8sZcd",
        "outputId": "b88d2185-0144-448f-c913-d21da51cf6b9"
      },
      "execution_count": 173,
      "outputs": [
        {
          "output_type": "execute_result",
          "data": {
            "text/plain": [
              "       id   법정동        사업구분   운영구분 approve    상태       area    건축연면적(㎡)  \\\n",
              "gu                                                                        \n",
              "송파구     1   가락동         재건축     조합    이전고시    운영  405782.40    14666.35   \n",
              "양천구     2   신월동  재개발(주택정비형)     조합    이전고시  일시중단   50978.00         NaN   \n",
              "성북구     3   돈암동  재개발(주택정비형)   조합청산    조합청산    운영   30588.00   103248.48   \n",
              "영등포구    4   양평동  재개발(도시정비형)     조합  사업시행인가    운영   27441.70         NaN   \n",
              "강동구     5   둔촌동         재건축     조합    착공신고    운영  626232.50  2216298.57   \n",
              "...   ...   ...         ...    ...     ...   ...        ...         ...   \n",
              "영등포구  378  영등포동  재개발(도시정비형)  공공지원자  정비구역지정  일시중단    3451.40         NaN   \n",
              "영등포구  379  영등포동  재개발(도시정비형)  공공지원자  정비구역지정  일시중단     314.65         NaN   \n",
              "영등포구  380  영등포동  재개발(도시정비형)  공공지원자  정비구역지정  일시중단    2805.20         NaN   \n",
              "영등포구  381  영등포동  재개발(도시정비형)  공공지원자  정비구역지정  일시중단    1759.10         NaN   \n",
              "영등포구  382  영등포동  재개발(도시정비형)  공공지원자  정비구역지정  일시중단    1785.40         NaN   \n",
              "\n",
              "              용도지역    택지면적(㎡)  ...  학교면적(㎡)  기타면적(㎡)                 주용도  \\\n",
              "gu                             ...                                         \n",
              "송파구     제3종 일반주거지역   34923.84  ...  13655.0      NaN                공동주택   \n",
              "양천구     제2종 일반주거지역   40725.90  ...      NaN   2419.6  아파트 및 부대복리시설근린생활시설   \n",
              "성북구           주거지역   25549.00  ...      NaN      NaN           제2종일반주거지역   \n",
              "영등포구         준공업지역   23312.13  ...      NaN      NaN                공동주택   \n",
              "강동구   제2 3종 일반주거지역  462771.40  ...  71937.1   1912.3       공동주택 및 부대복리시설   \n",
              "...            ...        ...  ...      ...      ...                 ...   \n",
              "영등포구        일반상업지역    2470.00  ...      NaN      NaN       판매 근린생활 업무 주거   \n",
              "영등포구        일반상업지역    1951.00  ...      NaN      NaN       판매 근린생활 업무 주거   \n",
              "영등포구        일반상업지역    1740.00  ...      NaN      NaN       판매 근린생활 업무 주거   \n",
              "영등포구        일반상업지역    1352.00  ...      NaN      NaN       판매 근린생활 업무 주거   \n",
              "영등포구        일반상업지역    1315.00  ...      NaN      NaN       판매 근린생활 업무 주거   \n",
              "\n",
              "        건폐율     용적률   number 60미만건설세대수  60이상85이하건설세대수  85초과건설세대수  건축계획비고  \n",
              "gu                                                                        \n",
              "송파구   21.96  285.98  8106000   1806000        3397000    2903000  임대 미포함  \n",
              "양천구   20.13  234.93    93000     35900          47600       9500     NaN  \n",
              "성북구   24.84  238.00    61854        63          43429      18362     NaN  \n",
              "영등포구  20.15  253.97    30300      4200          18800       7300     NaN  \n",
              "강동구   18.98  273.86    10060      2746           3948       3366     NaN  \n",
              "...     ...     ...      ...       ...            ...        ...     ...  \n",
              "영등포구  44.00    4.80       48        15             19         14     NaN  \n",
              "영등포구  55.00  590.00       47        15             18         14     NaN  \n",
              "영등포구  54.00  630.00       45        15             17         13     NaN  \n",
              "영등포구  60.00    6.90       28         9             11          8     NaN  \n",
              "영등포구  60.00    7.60       26         9             10          7     NaN  \n",
              "\n",
              "[382 rows x 24 columns]"
            ],
            "text/html": [
              "\n",
              "  <div id=\"df-635239c0-2fcd-4b7b-94f7-5ba9ebc06047\">\n",
              "    <div class=\"colab-df-container\">\n",
              "      <div>\n",
              "<style scoped>\n",
              "    .dataframe tbody tr th:only-of-type {\n",
              "        vertical-align: middle;\n",
              "    }\n",
              "\n",
              "    .dataframe tbody tr th {\n",
              "        vertical-align: top;\n",
              "    }\n",
              "\n",
              "    .dataframe thead th {\n",
              "        text-align: right;\n",
              "    }\n",
              "</style>\n",
              "<table border=\"1\" class=\"dataframe\">\n",
              "  <thead>\n",
              "    <tr style=\"text-align: right;\">\n",
              "      <th></th>\n",
              "      <th>id</th>\n",
              "      <th>법정동</th>\n",
              "      <th>사업구분</th>\n",
              "      <th>운영구분</th>\n",
              "      <th>approve</th>\n",
              "      <th>상태</th>\n",
              "      <th>area</th>\n",
              "      <th>건축연면적(㎡)</th>\n",
              "      <th>용도지역</th>\n",
              "      <th>택지면적(㎡)</th>\n",
              "      <th>...</th>\n",
              "      <th>학교면적(㎡)</th>\n",
              "      <th>기타면적(㎡)</th>\n",
              "      <th>주용도</th>\n",
              "      <th>건폐율</th>\n",
              "      <th>용적률</th>\n",
              "      <th>number</th>\n",
              "      <th>60미만건설세대수</th>\n",
              "      <th>60이상85이하건설세대수</th>\n",
              "      <th>85초과건설세대수</th>\n",
              "      <th>건축계획비고</th>\n",
              "    </tr>\n",
              "    <tr>\n",
              "      <th>gu</th>\n",
              "      <th></th>\n",
              "      <th></th>\n",
              "      <th></th>\n",
              "      <th></th>\n",
              "      <th></th>\n",
              "      <th></th>\n",
              "      <th></th>\n",
              "      <th></th>\n",
              "      <th></th>\n",
              "      <th></th>\n",
              "      <th></th>\n",
              "      <th></th>\n",
              "      <th></th>\n",
              "      <th></th>\n",
              "      <th></th>\n",
              "      <th></th>\n",
              "      <th></th>\n",
              "      <th></th>\n",
              "      <th></th>\n",
              "      <th></th>\n",
              "      <th></th>\n",
              "    </tr>\n",
              "  </thead>\n",
              "  <tbody>\n",
              "    <tr>\n",
              "      <th>송파구</th>\n",
              "      <td>1</td>\n",
              "      <td>가락동</td>\n",
              "      <td>재건축</td>\n",
              "      <td>조합</td>\n",
              "      <td>이전고시</td>\n",
              "      <td>운영</td>\n",
              "      <td>405782.40</td>\n",
              "      <td>14666.35</td>\n",
              "      <td>제3종 일반주거지역</td>\n",
              "      <td>34923.84</td>\n",
              "      <td>...</td>\n",
              "      <td>13655.0</td>\n",
              "      <td>NaN</td>\n",
              "      <td>공동주택</td>\n",
              "      <td>21.96</td>\n",
              "      <td>285.98</td>\n",
              "      <td>8106000</td>\n",
              "      <td>1806000</td>\n",
              "      <td>3397000</td>\n",
              "      <td>2903000</td>\n",
              "      <td>임대 미포함</td>\n",
              "    </tr>\n",
              "    <tr>\n",
              "      <th>양천구</th>\n",
              "      <td>2</td>\n",
              "      <td>신월동</td>\n",
              "      <td>재개발(주택정비형)</td>\n",
              "      <td>조합</td>\n",
              "      <td>이전고시</td>\n",
              "      <td>일시중단</td>\n",
              "      <td>50978.00</td>\n",
              "      <td>NaN</td>\n",
              "      <td>제2종 일반주거지역</td>\n",
              "      <td>40725.90</td>\n",
              "      <td>...</td>\n",
              "      <td>NaN</td>\n",
              "      <td>2419.6</td>\n",
              "      <td>아파트 및 부대복리시설근린생활시설</td>\n",
              "      <td>20.13</td>\n",
              "      <td>234.93</td>\n",
              "      <td>93000</td>\n",
              "      <td>35900</td>\n",
              "      <td>47600</td>\n",
              "      <td>9500</td>\n",
              "      <td>NaN</td>\n",
              "    </tr>\n",
              "    <tr>\n",
              "      <th>성북구</th>\n",
              "      <td>3</td>\n",
              "      <td>돈암동</td>\n",
              "      <td>재개발(주택정비형)</td>\n",
              "      <td>조합청산</td>\n",
              "      <td>조합청산</td>\n",
              "      <td>운영</td>\n",
              "      <td>30588.00</td>\n",
              "      <td>103248.48</td>\n",
              "      <td>주거지역</td>\n",
              "      <td>25549.00</td>\n",
              "      <td>...</td>\n",
              "      <td>NaN</td>\n",
              "      <td>NaN</td>\n",
              "      <td>제2종일반주거지역</td>\n",
              "      <td>24.84</td>\n",
              "      <td>238.00</td>\n",
              "      <td>61854</td>\n",
              "      <td>63</td>\n",
              "      <td>43429</td>\n",
              "      <td>18362</td>\n",
              "      <td>NaN</td>\n",
              "    </tr>\n",
              "    <tr>\n",
              "      <th>영등포구</th>\n",
              "      <td>4</td>\n",
              "      <td>양평동</td>\n",
              "      <td>재개발(도시정비형)</td>\n",
              "      <td>조합</td>\n",
              "      <td>사업시행인가</td>\n",
              "      <td>운영</td>\n",
              "      <td>27441.70</td>\n",
              "      <td>NaN</td>\n",
              "      <td>준공업지역</td>\n",
              "      <td>23312.13</td>\n",
              "      <td>...</td>\n",
              "      <td>NaN</td>\n",
              "      <td>NaN</td>\n",
              "      <td>공동주택</td>\n",
              "      <td>20.15</td>\n",
              "      <td>253.97</td>\n",
              "      <td>30300</td>\n",
              "      <td>4200</td>\n",
              "      <td>18800</td>\n",
              "      <td>7300</td>\n",
              "      <td>NaN</td>\n",
              "    </tr>\n",
              "    <tr>\n",
              "      <th>강동구</th>\n",
              "      <td>5</td>\n",
              "      <td>둔촌동</td>\n",
              "      <td>재건축</td>\n",
              "      <td>조합</td>\n",
              "      <td>착공신고</td>\n",
              "      <td>운영</td>\n",
              "      <td>626232.50</td>\n",
              "      <td>2216298.57</td>\n",
              "      <td>제2 3종 일반주거지역</td>\n",
              "      <td>462771.40</td>\n",
              "      <td>...</td>\n",
              "      <td>71937.1</td>\n",
              "      <td>1912.3</td>\n",
              "      <td>공동주택 및 부대복리시설</td>\n",
              "      <td>18.98</td>\n",
              "      <td>273.86</td>\n",
              "      <td>10060</td>\n",
              "      <td>2746</td>\n",
              "      <td>3948</td>\n",
              "      <td>3366</td>\n",
              "      <td>NaN</td>\n",
              "    </tr>\n",
              "    <tr>\n",
              "      <th>...</th>\n",
              "      <td>...</td>\n",
              "      <td>...</td>\n",
              "      <td>...</td>\n",
              "      <td>...</td>\n",
              "      <td>...</td>\n",
              "      <td>...</td>\n",
              "      <td>...</td>\n",
              "      <td>...</td>\n",
              "      <td>...</td>\n",
              "      <td>...</td>\n",
              "      <td>...</td>\n",
              "      <td>...</td>\n",
              "      <td>...</td>\n",
              "      <td>...</td>\n",
              "      <td>...</td>\n",
              "      <td>...</td>\n",
              "      <td>...</td>\n",
              "      <td>...</td>\n",
              "      <td>...</td>\n",
              "      <td>...</td>\n",
              "      <td>...</td>\n",
              "    </tr>\n",
              "    <tr>\n",
              "      <th>영등포구</th>\n",
              "      <td>378</td>\n",
              "      <td>영등포동</td>\n",
              "      <td>재개발(도시정비형)</td>\n",
              "      <td>공공지원자</td>\n",
              "      <td>정비구역지정</td>\n",
              "      <td>일시중단</td>\n",
              "      <td>3451.40</td>\n",
              "      <td>NaN</td>\n",
              "      <td>일반상업지역</td>\n",
              "      <td>2470.00</td>\n",
              "      <td>...</td>\n",
              "      <td>NaN</td>\n",
              "      <td>NaN</td>\n",
              "      <td>판매 근린생활 업무 주거</td>\n",
              "      <td>44.00</td>\n",
              "      <td>4.80</td>\n",
              "      <td>48</td>\n",
              "      <td>15</td>\n",
              "      <td>19</td>\n",
              "      <td>14</td>\n",
              "      <td>NaN</td>\n",
              "    </tr>\n",
              "    <tr>\n",
              "      <th>영등포구</th>\n",
              "      <td>379</td>\n",
              "      <td>영등포동</td>\n",
              "      <td>재개발(도시정비형)</td>\n",
              "      <td>공공지원자</td>\n",
              "      <td>정비구역지정</td>\n",
              "      <td>일시중단</td>\n",
              "      <td>314.65</td>\n",
              "      <td>NaN</td>\n",
              "      <td>일반상업지역</td>\n",
              "      <td>1951.00</td>\n",
              "      <td>...</td>\n",
              "      <td>NaN</td>\n",
              "      <td>NaN</td>\n",
              "      <td>판매 근린생활 업무 주거</td>\n",
              "      <td>55.00</td>\n",
              "      <td>590.00</td>\n",
              "      <td>47</td>\n",
              "      <td>15</td>\n",
              "      <td>18</td>\n",
              "      <td>14</td>\n",
              "      <td>NaN</td>\n",
              "    </tr>\n",
              "    <tr>\n",
              "      <th>영등포구</th>\n",
              "      <td>380</td>\n",
              "      <td>영등포동</td>\n",
              "      <td>재개발(도시정비형)</td>\n",
              "      <td>공공지원자</td>\n",
              "      <td>정비구역지정</td>\n",
              "      <td>일시중단</td>\n",
              "      <td>2805.20</td>\n",
              "      <td>NaN</td>\n",
              "      <td>일반상업지역</td>\n",
              "      <td>1740.00</td>\n",
              "      <td>...</td>\n",
              "      <td>NaN</td>\n",
              "      <td>NaN</td>\n",
              "      <td>판매 근린생활 업무 주거</td>\n",
              "      <td>54.00</td>\n",
              "      <td>630.00</td>\n",
              "      <td>45</td>\n",
              "      <td>15</td>\n",
              "      <td>17</td>\n",
              "      <td>13</td>\n",
              "      <td>NaN</td>\n",
              "    </tr>\n",
              "    <tr>\n",
              "      <th>영등포구</th>\n",
              "      <td>381</td>\n",
              "      <td>영등포동</td>\n",
              "      <td>재개발(도시정비형)</td>\n",
              "      <td>공공지원자</td>\n",
              "      <td>정비구역지정</td>\n",
              "      <td>일시중단</td>\n",
              "      <td>1759.10</td>\n",
              "      <td>NaN</td>\n",
              "      <td>일반상업지역</td>\n",
              "      <td>1352.00</td>\n",
              "      <td>...</td>\n",
              "      <td>NaN</td>\n",
              "      <td>NaN</td>\n",
              "      <td>판매 근린생활 업무 주거</td>\n",
              "      <td>60.00</td>\n",
              "      <td>6.90</td>\n",
              "      <td>28</td>\n",
              "      <td>9</td>\n",
              "      <td>11</td>\n",
              "      <td>8</td>\n",
              "      <td>NaN</td>\n",
              "    </tr>\n",
              "    <tr>\n",
              "      <th>영등포구</th>\n",
              "      <td>382</td>\n",
              "      <td>영등포동</td>\n",
              "      <td>재개발(도시정비형)</td>\n",
              "      <td>공공지원자</td>\n",
              "      <td>정비구역지정</td>\n",
              "      <td>일시중단</td>\n",
              "      <td>1785.40</td>\n",
              "      <td>NaN</td>\n",
              "      <td>일반상업지역</td>\n",
              "      <td>1315.00</td>\n",
              "      <td>...</td>\n",
              "      <td>NaN</td>\n",
              "      <td>NaN</td>\n",
              "      <td>판매 근린생활 업무 주거</td>\n",
              "      <td>60.00</td>\n",
              "      <td>7.60</td>\n",
              "      <td>26</td>\n",
              "      <td>9</td>\n",
              "      <td>10</td>\n",
              "      <td>7</td>\n",
              "      <td>NaN</td>\n",
              "    </tr>\n",
              "  </tbody>\n",
              "</table>\n",
              "<p>382 rows × 24 columns</p>\n",
              "</div>\n",
              "      <button class=\"colab-df-convert\" onclick=\"convertToInteractive('df-635239c0-2fcd-4b7b-94f7-5ba9ebc06047')\"\n",
              "              title=\"Convert this dataframe to an interactive table.\"\n",
              "              style=\"display:none;\">\n",
              "        \n",
              "  <svg xmlns=\"http://www.w3.org/2000/svg\" height=\"24px\"viewBox=\"0 0 24 24\"\n",
              "       width=\"24px\">\n",
              "    <path d=\"M0 0h24v24H0V0z\" fill=\"none\"/>\n",
              "    <path d=\"M18.56 5.44l.94 2.06.94-2.06 2.06-.94-2.06-.94-.94-2.06-.94 2.06-2.06.94zm-11 1L8.5 8.5l.94-2.06 2.06-.94-2.06-.94L8.5 2.5l-.94 2.06-2.06.94zm10 10l.94 2.06.94-2.06 2.06-.94-2.06-.94-.94-2.06-.94 2.06-2.06.94z\"/><path d=\"M17.41 7.96l-1.37-1.37c-.4-.4-.92-.59-1.43-.59-.52 0-1.04.2-1.43.59L10.3 9.45l-7.72 7.72c-.78.78-.78 2.05 0 2.83L4 21.41c.39.39.9.59 1.41.59.51 0 1.02-.2 1.41-.59l7.78-7.78 2.81-2.81c.8-.78.8-2.07 0-2.86zM5.41 20L4 18.59l7.72-7.72 1.47 1.35L5.41 20z\"/>\n",
              "  </svg>\n",
              "      </button>\n",
              "      \n",
              "  <style>\n",
              "    .colab-df-container {\n",
              "      display:flex;\n",
              "      flex-wrap:wrap;\n",
              "      gap: 12px;\n",
              "    }\n",
              "\n",
              "    .colab-df-convert {\n",
              "      background-color: #E8F0FE;\n",
              "      border: none;\n",
              "      border-radius: 50%;\n",
              "      cursor: pointer;\n",
              "      display: none;\n",
              "      fill: #1967D2;\n",
              "      height: 32px;\n",
              "      padding: 0 0 0 0;\n",
              "      width: 32px;\n",
              "    }\n",
              "\n",
              "    .colab-df-convert:hover {\n",
              "      background-color: #E2EBFA;\n",
              "      box-shadow: 0px 1px 2px rgba(60, 64, 67, 0.3), 0px 1px 3px 1px rgba(60, 64, 67, 0.15);\n",
              "      fill: #174EA6;\n",
              "    }\n",
              "\n",
              "    [theme=dark] .colab-df-convert {\n",
              "      background-color: #3B4455;\n",
              "      fill: #D2E3FC;\n",
              "    }\n",
              "\n",
              "    [theme=dark] .colab-df-convert:hover {\n",
              "      background-color: #434B5C;\n",
              "      box-shadow: 0px 1px 3px 1px rgba(0, 0, 0, 0.15);\n",
              "      filter: drop-shadow(0px 1px 2px rgba(0, 0, 0, 0.3));\n",
              "      fill: #FFFFFF;\n",
              "    }\n",
              "  </style>\n",
              "\n",
              "      <script>\n",
              "        const buttonEl =\n",
              "          document.querySelector('#df-635239c0-2fcd-4b7b-94f7-5ba9ebc06047 button.colab-df-convert');\n",
              "        buttonEl.style.display =\n",
              "          google.colab.kernel.accessAllowed ? 'block' : 'none';\n",
              "\n",
              "        async function convertToInteractive(key) {\n",
              "          const element = document.querySelector('#df-635239c0-2fcd-4b7b-94f7-5ba9ebc06047');\n",
              "          const dataTable =\n",
              "            await google.colab.kernel.invokeFunction('convertToInteractive',\n",
              "                                                     [key], {});\n",
              "          if (!dataTable) return;\n",
              "\n",
              "          const docLinkHtml = 'Like what you see? Visit the ' +\n",
              "            '<a target=\"_blank\" href=https://colab.research.google.com/notebooks/data_table.ipynb>data table notebook</a>'\n",
              "            + ' to learn more about interactive tables.';\n",
              "          element.innerHTML = '';\n",
              "          dataTable['output_type'] = 'display_data';\n",
              "          await google.colab.output.renderOutput(dataTable, element);\n",
              "          const docLink = document.createElement('div');\n",
              "          docLink.innerHTML = docLinkHtml;\n",
              "          element.appendChild(docLink);\n",
              "        }\n",
              "      </script>\n",
              "    </div>\n",
              "  </div>\n",
              "  "
            ]
          },
          "metadata": {},
          "execution_count": 173
        }
      ]
    },
    {
      "cell_type": "code",
      "source": [
        "approves=np.array(df['approve'])[:8]\n",
        "approves"
      ],
      "metadata": {
        "colab": {
          "base_uri": "https://localhost:8080/"
        },
        "id": "u2sSPsfzvfoT",
        "outputId": "fedcbca9-0617-40bc-ee42-fa42d36110bd"
      },
      "execution_count": 174,
      "outputs": [
        {
          "output_type": "execute_result",
          "data": {
            "text/plain": [
              "array(['이전고시', '이전고시', '조합청산', '사업시행인가', '착공신고', '착공신고', '조합설립인가',\n",
              "       '관리처분인가'], dtype=object)"
            ]
          },
          "metadata": {},
          "execution_count": 174
        }
      ]
    },
    {
      "cell_type": "code",
      "source": [
        "df['number'][:382]"
      ],
      "metadata": {
        "colab": {
          "base_uri": "https://localhost:8080/"
        },
        "id": "3qQXEDLw6iUM",
        "outputId": "629c3a87-73fc-4c4c-8375-5eac7904fb23"
      },
      "execution_count": 175,
      "outputs": [
        {
          "output_type": "execute_result",
          "data": {
            "text/plain": [
              "gu\n",
              "송파구     8106000\n",
              "양천구       93000\n",
              "성북구       61854\n",
              "영등포구      30300\n",
              "강동구       10060\n",
              "         ...   \n",
              "영등포구         48\n",
              "영등포구         47\n",
              "영등포구         45\n",
              "영등포구         28\n",
              "영등포구         26\n",
              "Name: number, Length: 382, dtype: int64"
            ]
          },
          "metadata": {},
          "execution_count": 175
        }
      ]
    },
    {
      "cell_type": "markdown",
      "source": [
        "평균값"
      ],
      "metadata": {
        "id": "GoVl4w9b6WMI"
      }
    },
    {
      "cell_type": "code",
      "source": [
        "np.mean(number)    #평균값"
      ],
      "metadata": {
        "colab": {
          "base_uri": "https://localhost:8080/",
          "height": 171
        },
        "id": "87aNNEKo4bBx",
        "outputId": "d227663e-ff86-4185-b9bf-7f04ae5e5213"
      },
      "execution_count": 176,
      "outputs": [
        {
          "output_type": "error",
          "ename": "NameError",
          "evalue": "ignored",
          "traceback": [
            "\u001b[0;31m---------------------------------------------------------------------------\u001b[0m",
            "\u001b[0;31mNameError\u001b[0m                                 Traceback (most recent call last)",
            "\u001b[0;32m<ipython-input-176-74db3a48fa9f>\u001b[0m in \u001b[0;36m<module>\u001b[0;34m\u001b[0m\n\u001b[0;32m----> 1\u001b[0;31m \u001b[0mnp\u001b[0m\u001b[0;34m.\u001b[0m\u001b[0mmean\u001b[0m\u001b[0;34m(\u001b[0m\u001b[0mnumber\u001b[0m\u001b[0;34m)\u001b[0m    \u001b[0;31m#평균값\u001b[0m\u001b[0;34m\u001b[0m\u001b[0;34m\u001b[0m\u001b[0m\n\u001b[0m",
            "\u001b[0;31mNameError\u001b[0m: name 'number' is not defined"
          ]
        }
      ]
    },
    {
      "cell_type": "code",
      "source": [
        "number_df.mean()\n"
      ],
      "metadata": {
        "id": "WYkbTUktJtp1"
      },
      "execution_count": null,
      "outputs": []
    },
    {
      "cell_type": "code",
      "source": [
        "np.median(number)   #중앙값"
      ],
      "metadata": {
        "id": "iNgfUDTbMhd2"
      },
      "execution_count": null,
      "outputs": []
    },
    {
      "cell_type": "code",
      "source": [
        "pd.Series([8106000, 93000, 61854, 30300, 10060]).mode()  #최빈값"
      ],
      "metadata": {
        "colab": {
          "base_uri": "https://localhost:8080/"
        },
        "id": "R9lrmVcqMsE3",
        "outputId": "ccfb7b7a-1bf0-4290-ff5f-b7778b2a293c"
      },
      "execution_count": 179,
      "outputs": [
        {
          "output_type": "execute_result",
          "data": {
            "text/plain": [
              "0      10060\n",
              "1      30300\n",
              "2      61854\n",
              "3      93000\n",
              "4    8106000\n",
              "dtype: int64"
            ]
          },
          "metadata": {},
          "execution_count": 179
        }
      ]
    },
    {
      "cell_type": "code",
      "source": [
        "np.mean(deciation)"
      ],
      "metadata": {
        "id": "_XZfiv50Nc3s"
      },
      "execution_count": null,
      "outputs": []
    },
    {
      "cell_type": "code",
      "source": [
        "summary_df.mean()"
      ],
      "metadata": {
        "id": "8dPNxiSHNpdC"
      },
      "execution_count": null,
      "outputs": []
    },
    {
      "cell_type": "code",
      "source": [
        "pd.Series(scores).describe   #데이터의 지표 정리"
      ],
      "metadata": {
        "colab": {
          "base_uri": "https://localhost:8080/"
        },
        "id": "ryRbG-FON71g",
        "outputId": "83b77154-7a0b-4031-f60e-9eee7bd27dd1"
      },
      "execution_count": 184,
      "outputs": [
        {
          "output_type": "execute_result",
          "data": {
            "text/plain": [
              "<bound method NDFrame.describe of 0           조합청산\n",
              "1         관리처분인가\n",
              "2         정비구역지정\n",
              "3           준공인가\n",
              "4    조합설립추진위원회승인\n",
              "5         사업시행인가\n",
              "6           조합해산\n",
              "7    조합설립추진위원회승인\n",
              "8         정비구역지정\n",
              "9    조합설립추진위원회승인\n",
              "dtype: object>"
            ]
          },
          "metadata": {},
          "execution_count": 184
        }
      ]
    },
    {
      "cell_type": "markdown",
      "source": [
        "1차원 데이터의 시각화"
      ],
      "metadata": {
        "id": "-Pzj8fyAO1tP"
      }
    },
    {
      "cell_type": "code",
      "source": [
        "number_scores=np.array(df['number'])    \n",
        "pd. Series(number_scores). describe()"
      ],
      "metadata": {
        "colab": {
          "base_uri": "https://localhost:8080/"
        },
        "id": "ehvEcJrMOQef",
        "outputId": "c64b4c69-5aa4-4244-c61c-8a77a5aae549"
      },
      "execution_count": 185,
      "outputs": [
        {
          "output_type": "execute_result",
          "data": {
            "text/plain": [
              "count    3.820000e+02\n",
              "mean     2.274523e+04\n",
              "std      4.147030e+05\n",
              "min      2.600000e+01\n",
              "25%      4.210000e+02\n",
              "50%      8.025000e+02\n",
              "75%      1.349500e+03\n",
              "max      8.106000e+06\n",
              "dtype: float64"
            ]
          },
          "metadata": {},
          "execution_count": 185
        }
      ]
    },
    {
      "cell_type": "code",
      "source": [
        "freq,_= np.histogram(number_scores, bins=10, range=(0,1000000))\n",
        "freq"
      ],
      "metadata": {
        "colab": {
          "base_uri": "https://localhost:8080/"
        },
        "id": "LLN30qRXOx_5",
        "outputId": "9f3a985e-ceb6-4426-d673-809d11e6ea58"
      },
      "execution_count": 186,
      "outputs": [
        {
          "output_type": "execute_result",
          "data": {
            "text/plain": [
              "array([381,   0,   0,   0,   0,   0,   0,   0,   0,   0])"
            ]
          },
          "metadata": {},
          "execution_count": 186
        }
      ]
    },
    {
      "cell_type": "code",
      "source": [
        "np.random.choice(scores)"
      ],
      "metadata": {
        "colab": {
          "base_uri": "https://localhost:8080/",
          "height": 35
        },
        "id": "CQOf5WknVc0B",
        "outputId": "bef86b5f-ba6c-4f71-a506-03ad355fbbd7"
      },
      "execution_count": 187,
      "outputs": [
        {
          "output_type": "execute_result",
          "data": {
            "text/plain": [
              "'조합설립추진위원회승인'"
            ],
            "application/vnd.google.colaboratory.intrinsic+json": {
              "type": "string"
            }
          },
          "metadata": {},
          "execution_count": 187
        }
      ]
    },
    {
      "cell_type": "code",
      "source": [
        "y=np.array(df['number'])[:10]\n",
        "y"
      ],
      "metadata": {
        "colab": {
          "base_uri": "https://localhost:8080/"
        },
        "outputId": "74a78445-afb1-4088-ff30-3379d8551041",
        "id": "2_VvvoC90kFW"
      },
      "execution_count": 216,
      "outputs": [
        {
          "output_type": "execute_result",
          "data": {
            "text/plain": [
              "array([8106000,   93000,   61854,   30300,   10060,    6309,    6033,\n",
              "          5124,    5010,    4792])"
            ]
          },
          "metadata": {},
          "execution_count": 216
        }
      ]
    },
    {
      "cell_type": "code",
      "source": [
        "x=np.array(df['area'])[:10]\n",
        "x"
      ],
      "metadata": {
        "colab": {
          "base_uri": "https://localhost:8080/"
        },
        "id": "8SNLxOgusE0T",
        "outputId": "61b4ae71-4c61-4c44-9f98-67c9c8691825"
      },
      "execution_count": 217,
      "outputs": [
        {
          "output_type": "execute_result",
          "data": {
            "text/plain": [
              "array([405782.4,  50978. ,  30588. ,  27441.7, 626232.5, 399741.7,\n",
              "       358077. , 370484. , 243552.6, 246210.1])"
            ]
          },
          "metadata": {},
          "execution_count": 217
        }
      ]
    },
    {
      "cell_type": "code",
      "source": [
        "s_mean=np.mean(sample)   # 표본평균\n",
        "s_mean"
      ],
      "metadata": {
        "colab": {
          "base_uri": "https://localhost:8080/"
        },
        "id": "9Votxwb1XIlG",
        "outputId": "8a573623-b5d4-4486-b9c0-9eb3f55eec15"
      },
      "execution_count": 192,
      "outputs": [
        {
          "output_type": "execute_result",
          "data": {
            "text/plain": [
              "832848.2"
            ]
          },
          "metadata": {},
          "execution_count": 192
        }
      ]
    },
    {
      "cell_type": "code",
      "source": [
        "y=np.array(df['number'])[:10]    #단순회귀모형  y=종속변수 x=독립변수\n",
        "x=np.array(df['area'])[:10]\n",
        "p=1"
      ],
      "metadata": {
        "id": "ImhwsX-X2lrG"
      },
      "execution_count": 226,
      "outputs": []
    },
    {
      "cell_type": "code",
      "source": [
        "poly_fit=np.polyfit(x,y,1)\n",
        "poly_1d=np.poly1d(poly_fit)\n",
        "xs=np.linspace(x.min(), x.max())\n",
        "ys=poly_1d(xs)\n",
        "\n",
        "fig = plt.figure(figsize=(10,6))\n",
        "ax= fig.add_subplot(111)\n",
        "ax.set_xlabel('area')\n",
        "ax.set_ylabel('number')\n",
        "ax.plot(xs,ys, color='gray',\n",
        "        label=f'{poly_fit[1]:.2f}+{poly_fit[0]:2f}x')\n",
        "ax.scatter(x,y)\n",
        "ax.legend()\n",
        "\n",
        "plt.show()"
      ],
      "metadata": {
        "colab": {
          "base_uri": "https://localhost:8080/",
          "height": 399
        },
        "id": "xhasmfLP3Cze",
        "outputId": "ff394a4d-22f6-4363-f40e-1f2761abb19c"
      },
      "execution_count": 233,
      "outputs": [
        {
          "output_type": "display_data",
          "data": {
            "text/plain": [
              "<Figure size 720x432 with 1 Axes>"
            ],
            "image/png": "[encoded data removed]"
          },
          "metadata": {
            "needs_background": "light"
          }
        }
      ]
    },
    {
      "cell_type": "code",
      "source": [
        "formula ='number~approve'\n",
        "result = smf.ols(formula,df).fit()\n",
        "result.summary()"
      ],
      "metadata": {
        "id": "oElDrncf587y"
      },
      "execution_count": null,
      "outputs": []
    },
    {
      "cell_type": "code",
      "source": [
        "rv = stats.norm()\n",
        "number= s_mean-rv.isf(0.025)*np.sqrt(p_var/n)\n",
        "area= s_mean-rv.isf(0.975)*np.sqrt(p_var/n)\n",
        "\n",
        "nunber,area"
      ],
      "metadata": {
        "id": "btLI04xgxm50"
      },
      "execution_count": null,
      "outputs": []
    },
    {
      "cell_type": "code",
      "source": [
        "rv = stats.norm()\n",
        "cnt=0\n",
        "\n",
        "for sample_in samples:\n",
        "    s_mean_= np.mean(sample_)\n",
        "    lcl= s_mean-rv.isf(0.025)*np.sqrt(p_var/n)\n",
        "    ucl= s_mean-rv.isf(0.975)*np.sqrt(p_var/n)\n",
        "    if lcl <=p_mean<=ucl:\n",
        "    cnt+=1\n",
        "\n",
        "cnt/len(samples)"
      ],
      "metadata": {
        "colab": {
          "base_uri": "https://localhost:8080/",
          "height": 135
        },
        "id": "UKyxOJqyxr28",
        "outputId": "ba24c0c3-2bdc-4bd6-f458-ff537ed6793c"
      },
      "execution_count": 213,
      "outputs": [
        {
          "output_type": "error",
          "ename": "SyntaxError",
          "evalue": "ignored",
          "traceback": [
            "\u001b[0;36m  File \u001b[0;32m\"<ipython-input-213-42aef23a8f4e>\"\u001b[0;36m, line \u001b[0;32m4\u001b[0m\n\u001b[0;31m    for sample_in samples:\u001b[0m\n\u001b[0m                  ^\u001b[0m\n\u001b[0;31mSyntaxError\u001b[0m\u001b[0;31m:\u001b[0m invalid syntax\n"
          ]
        }
      ]
    },
    {
      "cell_type": "markdown",
      "source": [
        "# 단순회귀모형:회귀계수에 대한 가설 검정을 하였다. 귀무가설은 'beta1은 0이다'와 대립가설은 'beta1은 0이 아니다' 검정통계량을 구했다."
      ],
      "metadata": {
        "id": "Mv39yFTr71Yv"
      }
    },
    {
      "cell_type": "code",
      "source": [
        "t=beta1_hat/np.sqrt(s_var*C1)  \n",
        "t"
      ],
      "metadata": {
        "id": "Chnt7c6Oy5zE"
      },
      "execution_count": null,
      "outputs": []
    },
    {
      "cell_type": "code",
      "source": [
        "t=beta0_hat/np.sqrt(s_var*C0)\n",
        "t"
      ],
      "metadata": {
        "id": "lyICQxGW7qth"
      },
      "execution_count": null,
      "outputs": []
    },
    {
      "cell_type": "markdown",
      "source": [
        "중회귀모형"
      ],
      "metadata": {
        "id": "P7ah-7PA8dCw"
      }
    },
    {
      "cell_type": "code",
      "source": [
        "x1=df['area']\n",
        "x2=df['number']\n",
        "\n",
        "y=df['approve']\n",
        "p=2"
      ],
      "metadata": {
        "id": "CzcHV40x8lGN"
      },
      "execution_count": 239,
      "outputs": []
    },
    {
      "cell_type": "code",
      "source": [
        "x1=np.array(df['area'])\n",
        "x2=np.array(df['number'])\n",
        "y=np.array(df['approve'])\n",
        "p=2\n",
        "\n",
        "formila ='number~area'\n",
        "result= smf.ols(formula, df).fit()\n",
        "result.summary() "
      ],
      "metadata": {
        "colab": {
          "base_uri": "https://localhost:8080/",
          "height": 225
        },
        "id": "btz_-Bou91CP",
        "outputId": "f202cdb9-4e38-4a8e-d22f-aeac0680f22c"
      },
      "execution_count": 244,
      "outputs": [
        {
          "output_type": "error",
          "ename": "NameError",
          "evalue": "ignored",
          "traceback": [
            "\u001b[0;31m---------------------------------------------------------------------------\u001b[0m",
            "\u001b[0;31mNameError\u001b[0m                                 Traceback (most recent call last)",
            "\u001b[0;32m<ipython-input-244-f09e820c7e68>\u001b[0m in \u001b[0;36m<module>\u001b[0;34m\u001b[0m\n\u001b[1;32m      5\u001b[0m \u001b[0;34m\u001b[0m\u001b[0m\n\u001b[1;32m      6\u001b[0m \u001b[0mformila\u001b[0m \u001b[0;34m=\u001b[0m\u001b[0;34m'number~area'\u001b[0m\u001b[0;34m\u001b[0m\u001b[0;34m\u001b[0m\u001b[0m\n\u001b[0;32m----> 7\u001b[0;31m \u001b[0mresult\u001b[0m\u001b[0;34m=\u001b[0m \u001b[0msmf\u001b[0m\u001b[0;34m.\u001b[0m\u001b[0mols\u001b[0m\u001b[0;34m(\u001b[0m\u001b[0mformula\u001b[0m\u001b[0;34m,\u001b[0m \u001b[0mdf\u001b[0m\u001b[0;34m)\u001b[0m\u001b[0;34m.\u001b[0m\u001b[0mfit\u001b[0m\u001b[0;34m(\u001b[0m\u001b[0;34m)\u001b[0m\u001b[0;34m\u001b[0m\u001b[0;34m\u001b[0m\u001b[0m\n\u001b[0m\u001b[1;32m      8\u001b[0m \u001b[0mresult\u001b[0m\u001b[0;34m.\u001b[0m\u001b[0msummary\u001b[0m\u001b[0;34m(\u001b[0m\u001b[0;34m)\u001b[0m\u001b[0;34m\u001b[0m\u001b[0;34m\u001b[0m\u001b[0m\n",
            "\u001b[0;31mNameError\u001b[0m: name 'smf' is not defined"
          ]
        }
      ]
    }
  ]
}